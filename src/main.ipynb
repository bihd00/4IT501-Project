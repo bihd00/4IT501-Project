{
 "cells": [
  {
   "cell_type": "code",
   "execution_count": 1,
   "metadata": {},
   "outputs": [],
   "source": [
    "%load_ext autoreload\n",
    "%autoreload 2"
   ]
  },
  {
   "cell_type": "code",
   "execution_count": 2,
   "metadata": {},
   "outputs": [],
   "source": [
    "from dotenv import load_dotenv, dotenv_values\n",
    "load_dotenv()\n",
    "ENV = dotenv_values()"
   ]
  },
  {
   "cell_type": "code",
   "execution_count": 3,
   "metadata": {},
   "outputs": [
    {
     "name": "stderr",
     "output_type": "stream",
     "text": [
      "C:\\Users\\bihd00\\AppData\\Local\\Temp\\ipykernel_10208\\1814486045.py:1: DeprecationWarning: \n",
      "Pyarrow will become a required dependency of pandas in the next major release of pandas (pandas 3.0),\n",
      "(to allow more performant data types, such as the Arrow string type, and better interoperability with other libraries)\n",
      "but was not found to be installed on your system.\n",
      "If this would cause problems for you,\n",
      "please provide us feedback at https://github.com/pandas-dev/pandas/issues/54466\n",
      "        \n",
      "  import pandas as pd\n"
     ]
    }
   ],
   "source": [
    "import pandas as pd\n",
    "import re\n",
    "from conn import get_connection\n",
    "from crud import get_orders_all_years"
   ]
  },
  {
   "cell_type": "code",
   "execution_count": 4,
   "metadata": {},
   "outputs": [],
   "source": [
    "conn = get_connection(\n",
    "    db_server=ENV.get('DB_SERVER'),\n",
    "    db_name=ENV.get('DB_NAME')\n",
    ")"
   ]
  },
  {
   "cell_type": "code",
   "execution_count": 5,
   "metadata": {},
   "outputs": [
    {
     "name": "stderr",
     "output_type": "stream",
     "text": [
      "h:\\DAB\\SSBI\\ssbi\\src\\crud.py:141: UserWarning: pandas only supports SQLAlchemy connectable (engine/connection) or database string URI or sqlite3 DBAPI2 connection. Other DBAPI2 objects are not tested. Please consider using SQLAlchemy.\n",
      "  return read_sql(sql=sql, con=conn)\n"
     ]
    }
   ],
   "source": [
    "df_orders = get_orders_all_years(conn=conn)"
   ]
  },
  {
   "cell_type": "code",
   "execution_count": 6,
   "metadata": {},
   "outputs": [
    {
     "data": {
      "text/html": [
       "<div>\n",
       "<style scoped>\n",
       "    .dataframe tbody tr th:only-of-type {\n",
       "        vertical-align: middle;\n",
       "    }\n",
       "\n",
       "    .dataframe tbody tr th {\n",
       "        vertical-align: top;\n",
       "    }\n",
       "\n",
       "    .dataframe thead th {\n",
       "        text-align: right;\n",
       "    }\n",
       "</style>\n",
       "<table border=\"1\" class=\"dataframe\">\n",
       "  <thead>\n",
       "    <tr style=\"text-align: right;\">\n",
       "      <th></th>\n",
       "      <th>Row_ID</th>\n",
       "      <th>Order_ID</th>\n",
       "      <th>Category</th>\n",
       "      <th>Sub_Category</th>\n",
       "      <th>Segment</th>\n",
       "      <th>Country_Region</th>\n",
       "      <th>State_Province</th>\n",
       "      <th>Region</th>\n",
       "      <th>City</th>\n",
       "      <th>Postal_Code</th>\n",
       "      <th>...</th>\n",
       "      <th>Customer_Name</th>\n",
       "      <th>Product_ID</th>\n",
       "      <th>Product_Name</th>\n",
       "      <th>Quantity</th>\n",
       "      <th>Sales</th>\n",
       "      <th>Discount</th>\n",
       "      <th>Profit</th>\n",
       "      <th>Order_Date</th>\n",
       "      <th>Ship_Date</th>\n",
       "      <th>Ship_Mode</th>\n",
       "    </tr>\n",
       "  </thead>\n",
       "  <tbody>\n",
       "    <tr>\n",
       "      <th>0</th>\n",
       "      <td>1</td>\n",
       "      <td>US-2020-103800</td>\n",
       "      <td>Office Supplies</td>\n",
       "      <td>Paper</td>\n",
       "      <td>Consumer</td>\n",
       "      <td>United States</td>\n",
       "      <td>Texas</td>\n",
       "      <td>Central</td>\n",
       "      <td>Houston</td>\n",
       "      <td>77095</td>\n",
       "      <td>...</td>\n",
       "      <td>Darren Powers</td>\n",
       "      <td>OFF-PA-10000174</td>\n",
       "      <td>Message Book, Wirebound, Four 5 1/2\" X 4\" Form...</td>\n",
       "      <td>2</td>\n",
       "      <td>16.448</td>\n",
       "      <td>0.2</td>\n",
       "      <td>5.5512</td>\n",
       "      <td>2020-01-03</td>\n",
       "      <td>2020-01-07</td>\n",
       "      <td>Standard Class</td>\n",
       "    </tr>\n",
       "    <tr>\n",
       "      <th>1</th>\n",
       "      <td>10</td>\n",
       "      <td>US-2020-167199</td>\n",
       "      <td>Office Supplies</td>\n",
       "      <td>Fasteners</td>\n",
       "      <td>Home Office</td>\n",
       "      <td>United States</td>\n",
       "      <td>Kentucky</td>\n",
       "      <td>South</td>\n",
       "      <td>Henderson</td>\n",
       "      <td>42420</td>\n",
       "      <td>...</td>\n",
       "      <td>Maria Etezadi</td>\n",
       "      <td>OFF-FA-10001883</td>\n",
       "      <td>Alliance Super-Size Bands, Assorted Sizes</td>\n",
       "      <td>4</td>\n",
       "      <td>31.120</td>\n",
       "      <td>0.0</td>\n",
       "      <td>0.3112</td>\n",
       "      <td>2020-01-06</td>\n",
       "      <td>2020-01-10</td>\n",
       "      <td>Standard Class</td>\n",
       "    </tr>\n",
       "    <tr>\n",
       "      <th>2</th>\n",
       "      <td>100</td>\n",
       "      <td>US-2020-125759</td>\n",
       "      <td>Furniture</td>\n",
       "      <td>Furnishings</td>\n",
       "      <td>Home Office</td>\n",
       "      <td>United States</td>\n",
       "      <td>Nevada</td>\n",
       "      <td>West</td>\n",
       "      <td>North Las Vegas</td>\n",
       "      <td>89031</td>\n",
       "      <td>...</td>\n",
       "      <td>Nathan Mautz</td>\n",
       "      <td>FUR-FU-10002111</td>\n",
       "      <td>Master Caster Door Stop, Large Brown</td>\n",
       "      <td>2</td>\n",
       "      <td>14.560</td>\n",
       "      <td>0.0</td>\n",
       "      <td>5.5328</td>\n",
       "      <td>2020-02-08</td>\n",
       "      <td>2020-02-09</td>\n",
       "      <td>First Class</td>\n",
       "    </tr>\n",
       "  </tbody>\n",
       "</table>\n",
       "<p>3 rows × 21 columns</p>\n",
       "</div>"
      ],
      "text/plain": [
       "   Row_ID        Order_ID         Category Sub_Category      Segment  \\\n",
       "0       1  US-2020-103800  Office Supplies        Paper     Consumer   \n",
       "1      10  US-2020-167199  Office Supplies    Fasteners  Home Office   \n",
       "2     100  US-2020-125759        Furniture  Furnishings  Home Office   \n",
       "\n",
       "  Country_Region State_Province   Region             City Postal_Code  ...  \\\n",
       "0  United States          Texas  Central          Houston       77095  ...   \n",
       "1  United States       Kentucky    South        Henderson       42420  ...   \n",
       "2  United States         Nevada     West  North Las Vegas       89031  ...   \n",
       "\n",
       "   Customer_Name       Product_ID  \\\n",
       "0  Darren Powers  OFF-PA-10000174   \n",
       "1  Maria Etezadi  OFF-FA-10001883   \n",
       "2   Nathan Mautz  FUR-FU-10002111   \n",
       "\n",
       "                                        Product_Name Quantity   Sales  \\\n",
       "0  Message Book, Wirebound, Four 5 1/2\" X 4\" Form...        2  16.448   \n",
       "1          Alliance Super-Size Bands, Assorted Sizes        4  31.120   \n",
       "2               Master Caster Door Stop, Large Brown        2  14.560   \n",
       "\n",
       "   Discount  Profit  Order_Date   Ship_Date       Ship_Mode  \n",
       "0       0.2  5.5512  2020-01-03  2020-01-07  Standard Class  \n",
       "1       0.0  0.3112  2020-01-06  2020-01-10  Standard Class  \n",
       "2       0.0  5.5328  2020-02-08  2020-02-09     First Class  \n",
       "\n",
       "[3 rows x 21 columns]"
      ]
     },
     "execution_count": 6,
     "metadata": {},
     "output_type": "execute_result"
    }
   ],
   "source": [
    "df_orders.head(3)"
   ]
  },
  {
   "cell_type": "code",
   "execution_count": 7,
   "metadata": {},
   "outputs": [
    {
     "data": {
      "text/plain": [
       "Row_ID              int64\n",
       "Order_ID           object\n",
       "Category           object\n",
       "Sub_Category       object\n",
       "Segment            object\n",
       "Country_Region     object\n",
       "State_Province     object\n",
       "Region             object\n",
       "City               object\n",
       "Postal_Code        object\n",
       "Customer_ID        object\n",
       "Customer_Name      object\n",
       "Product_ID         object\n",
       "Product_Name       object\n",
       "Quantity            int64\n",
       "Sales             float64\n",
       "Discount          float64\n",
       "Profit            float64\n",
       "Order_Date         object\n",
       "Ship_Date          object\n",
       "Ship_Mode          object\n",
       "dtype: object"
      ]
     },
     "execution_count": 7,
     "metadata": {},
     "output_type": "execute_result"
    }
   ],
   "source": [
    "df_orders.dtypes"
   ]
  },
  {
   "cell_type": "code",
   "execution_count": 8,
   "metadata": {},
   "outputs": [
    {
     "data": {
      "text/html": [
       "<div>\n",
       "<style scoped>\n",
       "    .dataframe tbody tr th:only-of-type {\n",
       "        vertical-align: middle;\n",
       "    }\n",
       "\n",
       "    .dataframe tbody tr th {\n",
       "        vertical-align: top;\n",
       "    }\n",
       "\n",
       "    .dataframe thead th {\n",
       "        text-align: right;\n",
       "    }\n",
       "</style>\n",
       "<table border=\"1\" class=\"dataframe\">\n",
       "  <thead>\n",
       "    <tr style=\"text-align: right;\">\n",
       "      <th></th>\n",
       "      <th>Row_ID</th>\n",
       "      <th>Order_ID</th>\n",
       "      <th>Category</th>\n",
       "      <th>Sub_Category</th>\n",
       "      <th>Segment</th>\n",
       "      <th>Country_Region</th>\n",
       "      <th>State_Province</th>\n",
       "      <th>Region</th>\n",
       "      <th>City</th>\n",
       "      <th>Postal_Code</th>\n",
       "      <th>...</th>\n",
       "      <th>Customer_Name</th>\n",
       "      <th>Product_ID</th>\n",
       "      <th>Product_Name</th>\n",
       "      <th>Quantity</th>\n",
       "      <th>Sales</th>\n",
       "      <th>Discount</th>\n",
       "      <th>Profit</th>\n",
       "      <th>Order_Date</th>\n",
       "      <th>Ship_Date</th>\n",
       "      <th>Ship_Mode</th>\n",
       "    </tr>\n",
       "  </thead>\n",
       "  <tbody>\n",
       "  </tbody>\n",
       "</table>\n",
       "<p>0 rows × 21 columns</p>\n",
       "</div>"
      ],
      "text/plain": [
       "Empty DataFrame\n",
       "Columns: [Row_ID, Order_ID, Category, Sub_Category, Segment, Country_Region, State_Province, Region, City, Postal_Code, Customer_ID, Customer_Name, Product_ID, Product_Name, Quantity, Sales, Discount, Profit, Order_Date, Ship_Date, Ship_Mode]\n",
       "Index: []\n",
       "\n",
       "[0 rows x 21 columns]"
      ]
     },
     "execution_count": 8,
     "metadata": {},
     "output_type": "execute_result"
    }
   ],
   "source": [
    "# nothing NA\n",
    "df_orders[df_orders.isna().any(axis=1)]"
   ]
  },
  {
   "cell_type": "code",
   "execution_count": 9,
   "metadata": {},
   "outputs": [
    {
     "data": {
      "text/plain": [
       "True"
      ]
     },
     "execution_count": 9,
     "metadata": {},
     "output_type": "execute_result"
    }
   ],
   "source": [
    "# unique row ids\n",
    "df_orders['Row_ID'].nunique() == df_orders.shape[0]"
   ]
  },
  {
   "cell_type": "code",
   "execution_count": 10,
   "metadata": {},
   "outputs": [
    {
     "name": "stdout",
     "output_type": "stream",
     "text": [
      "5111\n"
     ]
    },
    {
     "data": {
      "text/plain": [
       "False"
      ]
     },
     "execution_count": 10,
     "metadata": {},
     "output_type": "execute_result"
    }
   ],
   "source": [
    "# multiple different items per order\n",
    "print(df_orders['Order_ID'].nunique())\n",
    "df_orders['Order_ID'].nunique() == df_orders.shape[0]"
   ]
  },
  {
   "cell_type": "code",
   "execution_count": 11,
   "metadata": {},
   "outputs": [
    {
     "data": {
      "text/plain": [
       "'US-2020-103800'"
      ]
     },
     "execution_count": 11,
     "metadata": {},
     "output_type": "execute_result"
    }
   ],
   "source": [
    "df_orders['Order_ID'][0]"
   ]
  },
  {
   "cell_type": "code",
   "execution_count": 12,
   "metadata": {},
   "outputs": [
    {
     "data": {
      "text/plain": [
       "array([ True])"
      ]
     },
     "execution_count": 12,
     "metadata": {},
     "output_type": "execute_result"
    }
   ],
   "source": [
    "# all orders follow the pattern of <subsidiary>-<year>-<order_id>\n",
    "df_orders['Order_ID'].str.match(r'^[A-Z]{2}-\\d{4}-\\d+$', False, re.IGNORECASE).unique()"
   ]
  },
  {
   "cell_type": "code",
   "execution_count": 13,
   "metadata": {},
   "outputs": [
    {
     "data": {
      "text/plain": [
       "array(['Office Supplies', 'Furniture', 'Technology'], dtype=object)"
      ]
     },
     "execution_count": 13,
     "metadata": {},
     "output_type": "execute_result"
    }
   ],
   "source": [
    "df_orders['Category'].unique()"
   ]
  },
  {
   "cell_type": "code",
   "execution_count": 14,
   "metadata": {},
   "outputs": [
    {
     "data": {
      "text/plain": [
       "array(['Paper', 'Fasteners', 'Furnishings', 'Appliances', 'Art',\n",
       "       'Binders', 'Accessories', 'Machines', 'Labels', 'Chairs',\n",
       "       'Storage', 'Tables', 'Supplies', 'Phones', 'Envelopes',\n",
       "       'Bookcases', 'Copiers'], dtype=object)"
      ]
     },
     "execution_count": 14,
     "metadata": {},
     "output_type": "execute_result"
    }
   ],
   "source": [
    "df_orders['Sub_Category'].unique()"
   ]
  },
  {
   "cell_type": "code",
   "execution_count": 15,
   "metadata": {},
   "outputs": [
    {
     "data": {
      "text/plain": [
       "array(['Consumer', 'Home Office', 'Corporate'], dtype=object)"
      ]
     },
     "execution_count": 15,
     "metadata": {},
     "output_type": "execute_result"
    }
   ],
   "source": [
    "df_orders['Segment'].unique()"
   ]
  },
  {
   "cell_type": "code",
   "execution_count": 16,
   "metadata": {},
   "outputs": [
    {
     "data": {
      "text/plain": [
       "array(['United States', 'Canada'], dtype=object)"
      ]
     },
     "execution_count": 16,
     "metadata": {},
     "output_type": "execute_result"
    }
   ],
   "source": [
    "df_orders['Country_Region'].unique()"
   ]
  },
  {
   "cell_type": "code",
   "execution_count": 17,
   "metadata": {},
   "outputs": [
    {
     "data": {
      "text/plain": [
       "array(['Alabama', 'Alberta', 'Arizona', 'Arkaansas', 'Arkanas',\n",
       "       'Arkansas', 'Arkasas', 'British Columbia', 'Caifornia',\n",
       "       'California', 'Californiaa', 'Califorrrnia', 'Callifornia',\n",
       "       'Coloorado', 'Colorado', 'Connecticut', 'Delaware',\n",
       "       'District of Columbia', 'Florida', 'Georgia', 'Idaho', 'Illinois',\n",
       "       'Indiana', 'Iowa', 'Kansas', 'Kentucky', 'Louisiana', 'Maine',\n",
       "       'Manitoba', 'Maryland', 'Massachusetts', 'Michigan', 'Minnesota',\n",
       "       'Mississippi', 'Missouri', 'Montana', 'Nebraska', 'Nevada',\n",
       "       'New Brunswick', 'New Hampshire', 'New Jersey', 'New Mexico',\n",
       "       'New York', 'Newfoundland and Labrador', 'North Carolina',\n",
       "       'North Dakota', 'Nova Scotia', 'Ohiio', 'Ohio', 'Oho', 'Oklahoma',\n",
       "       'Ontaario', 'Ontario', 'Oregon', 'Pennsylvania',\n",
       "       'Prince Edward Island', 'Quebec', 'Quebecc', 'Rhode Island',\n",
       "       'Saskatchewan', 'South Carolina', 'South Dakota', 'Tennesee',\n",
       "       'Tennesse', 'Tennessee', 'Texas', 'Utah', 'Vermont', 'Virginia',\n",
       "       'Washington', 'West Virginia', 'Wisconsin', 'Wyoming', 'iIllinois'],\n",
       "      dtype=object)"
      ]
     },
     "execution_count": 17,
     "metadata": {},
     "output_type": "execute_result"
    }
   ],
   "source": [
    "# some misspelled state province\n",
    "unique_state_provinces = df_orders['State_Province'].sort_values(ascending=True).unique()\n",
    "unique_state_provinces"
   ]
  },
  {
   "cell_type": "code",
   "execution_count": 18,
   "metadata": {},
   "outputs": [],
   "source": [
    "def simple_similarity(s1: str, s2: str) -> float:\n",
    "    if s1 == s2:\n",
    "        return 1\n",
    "    common_chars = set(s1) & set(s2)\n",
    "    similarity = len(common_chars) / max(len(s1), len(s2))\n",
    "    return similarity\n",
    "\n",
    "\n",
    "def get_missspelled(\n",
    "    df: pd.DataFrame,\n",
    "    column_check: str,\n",
    "    column_count: str,\n",
    "    treshold_similarity: float = 0.5,\n",
    "    treshold_count: int = 50,\n",
    ") -> pd.DataFrame:\n",
    "    df_counts = df[[column_check, column_count]] \\\n",
    "        .rename(columns={column_count: 'count'}) \\\n",
    "        .groupby(column_check) \\\n",
    "        .count() \\\n",
    "        .reset_index() \\\n",
    "        .sort_values(by='count')\n",
    "\n",
    "    counts_dict = df_counts.set_index(column_check)['count'].to_dict()\n",
    "    counts_dict_items = list(counts_dict.items()) # (<column_to_check>, count) items\n",
    "\n",
    "    records = []\n",
    "    for i in range(len(counts_dict_items)):\n",
    "        for j in range(i+1, len(counts_dict_items)-1, 1):\n",
    "            sp1, sp1_count = counts_dict_items[i]\n",
    "            sp2, sp2_count = counts_dict_items[j]\n",
    "            sim = simple_similarity(sp1, sp2)\n",
    "            if (\n",
    "                sim >= treshold_similarity\n",
    "                and (sp1_count <= treshold_count or sp2_count <= treshold_count)\n",
    "            ):\n",
    "                records.append(dict(\n",
    "                    a=sp1,\n",
    "                    b=sp2,\n",
    "                    similarity=sim\n",
    "                ))\n",
    "    return pd.DataFrame.from_records(records)"
   ]
  },
  {
   "cell_type": "code",
   "execution_count": 19,
   "metadata": {},
   "outputs": [
    {
     "data": {
      "text/html": [
       "<div>\n",
       "<style scoped>\n",
       "    .dataframe tbody tr th:only-of-type {\n",
       "        vertical-align: middle;\n",
       "    }\n",
       "\n",
       "    .dataframe tbody tr th {\n",
       "        vertical-align: top;\n",
       "    }\n",
       "\n",
       "    .dataframe thead th {\n",
       "        text-align: right;\n",
       "    }\n",
       "</style>\n",
       "<table border=\"1\" class=\"dataframe\">\n",
       "  <thead>\n",
       "    <tr style=\"text-align: right;\">\n",
       "      <th></th>\n",
       "      <th>a</th>\n",
       "      <th>b</th>\n",
       "      <th>similarity</th>\n",
       "    </tr>\n",
       "  </thead>\n",
       "  <tbody>\n",
       "    <tr>\n",
       "      <th>0</th>\n",
       "      <td>Quebecc</td>\n",
       "      <td>Quebec</td>\n",
       "      <td>0.714286</td>\n",
       "    </tr>\n",
       "    <tr>\n",
       "      <th>1</th>\n",
       "      <td>Ohiio</td>\n",
       "      <td>Oho</td>\n",
       "      <td>0.600000</td>\n",
       "    </tr>\n",
       "    <tr>\n",
       "      <th>2</th>\n",
       "      <td>Ohiio</td>\n",
       "      <td>Ohio</td>\n",
       "      <td>0.800000</td>\n",
       "    </tr>\n",
       "    <tr>\n",
       "      <th>3</th>\n",
       "      <td>Ontaario</td>\n",
       "      <td>Caifornia</td>\n",
       "      <td>0.555556</td>\n",
       "    </tr>\n",
       "    <tr>\n",
       "      <th>4</th>\n",
       "      <td>Ontaario</td>\n",
       "      <td>Manitoba</td>\n",
       "      <td>0.625000</td>\n",
       "    </tr>\n",
       "  </tbody>\n",
       "</table>\n",
       "</div>"
      ],
      "text/plain": [
       "          a          b  similarity\n",
       "0   Quebecc     Quebec    0.714286\n",
       "1     Ohiio        Oho    0.600000\n",
       "2     Ohiio       Ohio    0.800000\n",
       "3  Ontaario  Caifornia    0.555556\n",
       "4  Ontaario   Manitoba    0.625000"
      ]
     },
     "execution_count": 19,
     "metadata": {},
     "output_type": "execute_result"
    }
   ],
   "source": [
    "state_province_misspelled = get_missspelled(df_orders, 'State_Province', 'Row_ID', 0.51, 20)\n",
    "state_province_misspelled.head()"
   ]
  },
  {
   "cell_type": "code",
   "execution_count": 20,
   "metadata": {},
   "outputs": [],
   "source": [
    "state_province_misspelled_fix_dict = {\n",
    "    'Quebecc': 'Quebec',\n",
    "    'Ohiio': 'Ohio',\n",
    "    'Oho': 'Ohio',\n",
    "    'Ontaario': 'Ontario',\n",
    "    'Arkaansas': 'Arkansas',\n",
    "    'Arkasas': 'Arkansas',\n",
    "    'Arkanas': 'Arkansas',\n",
    "    'Coloorado': 'Colorado',\n",
    "    'iIllinois': 'Illinois',\n",
    "    'Caifornia': 'California',\n",
    "    'Callifornia': 'California',\n",
    "    'Californiaa': 'California',\n",
    "    'Califorrrnia': 'California',\n",
    "    'Tennesee': 'Tennessee',\n",
    "    'Tennesse': 'Tennessee',\n",
    "    'Tennessee': 'Tennessee',\n",
    "}\n",
    "for k, v in state_province_misspelled_fix_dict.items():\n",
    "    df_orders.loc[df_orders['State_Province'] == k, 'State_Province'] = v"
   ]
  },
  {
   "cell_type": "code",
   "execution_count": 21,
   "metadata": {},
   "outputs": [
    {
     "data": {
      "text/plain": [
       "array(['Alabama', 'Alberta', 'Arizona', 'Arkansas', 'British Columbia',\n",
       "       'California', 'Colorado', 'Connecticut', 'Delaware',\n",
       "       'District of Columbia', 'Florida', 'Georgia', 'Idaho', 'Illinois',\n",
       "       'Indiana', 'Iowa', 'Kansas', 'Kentucky', 'Louisiana', 'Maine',\n",
       "       'Manitoba', 'Maryland', 'Massachusetts', 'Michigan', 'Minnesota',\n",
       "       'Mississippi', 'Missouri', 'Montana', 'Nebraska', 'Nevada',\n",
       "       'New Brunswick', 'New Hampshire', 'New Jersey', 'New Mexico',\n",
       "       'New York', 'Newfoundland and Labrador', 'North Carolina',\n",
       "       'North Dakota', 'Nova Scotia', 'Ohio', 'Oklahoma', 'Ontario',\n",
       "       'Oregon', 'Pennsylvania', 'Prince Edward Island', 'Quebec',\n",
       "       'Rhode Island', 'Saskatchewan', 'South Carolina', 'South Dakota',\n",
       "       'Tennessee', 'Texas', 'Utah', 'Vermont', 'Virginia', 'Washington',\n",
       "       'West Virginia', 'Wisconsin', 'Wyoming'], dtype=object)"
      ]
     },
     "execution_count": 21,
     "metadata": {},
     "output_type": "execute_result"
    }
   ],
   "source": [
    "df_orders['State_Province'].sort_values().unique()"
   ]
  },
  {
   "cell_type": "code",
   "execution_count": 22,
   "metadata": {},
   "outputs": [
    {
     "data": {
      "text/plain": [
       "array(['Central', 'East', 'South', 'West'], dtype=object)"
      ]
     },
     "execution_count": 22,
     "metadata": {},
     "output_type": "execute_result"
    }
   ],
   "source": [
    "df_orders['Region'].sort_values().unique()"
   ]
  },
  {
   "cell_type": "code",
   "execution_count": 23,
   "metadata": {},
   "outputs": [
    {
     "data": {
      "text/plain": [
       "542"
      ]
     },
     "execution_count": 23,
     "metadata": {},
     "output_type": "execute_result"
    }
   ],
   "source": [
    "# maybe misspelled\n",
    "df_orders['City'].nunique()"
   ]
  },
  {
   "cell_type": "code",
   "execution_count": 24,
   "metadata": {},
   "outputs": [
    {
     "data": {
      "text/html": [
       "<div>\n",
       "<style scoped>\n",
       "    .dataframe tbody tr th:only-of-type {\n",
       "        vertical-align: middle;\n",
       "    }\n",
       "\n",
       "    .dataframe tbody tr th {\n",
       "        vertical-align: top;\n",
       "    }\n",
       "\n",
       "    .dataframe thead th {\n",
       "        text-align: right;\n",
       "    }\n",
       "</style>\n",
       "<table border=\"1\" class=\"dataframe\">\n",
       "  <thead>\n",
       "    <tr style=\"text-align: right;\">\n",
       "      <th></th>\n",
       "      <th>a</th>\n",
       "      <th>b</th>\n",
       "      <th>similarity</th>\n",
       "    </tr>\n",
       "  </thead>\n",
       "  <tbody>\n",
       "    <tr>\n",
       "      <th>0</th>\n",
       "      <td>Normal</td>\n",
       "      <td>Norman</td>\n",
       "      <td>0.833333</td>\n",
       "    </tr>\n",
       "    <tr>\n",
       "      <th>1</th>\n",
       "      <td>Redding</td>\n",
       "      <td>Reading</td>\n",
       "      <td>0.857143</td>\n",
       "    </tr>\n",
       "    <tr>\n",
       "      <th>2</th>\n",
       "      <td>Layton</td>\n",
       "      <td>Lawton</td>\n",
       "      <td>0.833333</td>\n",
       "    </tr>\n",
       "    <tr>\n",
       "      <th>3</th>\n",
       "      <td>Springdale</td>\n",
       "      <td>Springfield</td>\n",
       "      <td>0.818182</td>\n",
       "    </tr>\n",
       "    <tr>\n",
       "      <th>4</th>\n",
       "      <td>Regina</td>\n",
       "      <td>Reading</td>\n",
       "      <td>0.857143</td>\n",
       "    </tr>\n",
       "    <tr>\n",
       "      <th>5</th>\n",
       "      <td>Clifton</td>\n",
       "      <td>Clinton</td>\n",
       "      <td>0.857143</td>\n",
       "    </tr>\n",
       "    <tr>\n",
       "      <th>6</th>\n",
       "      <td>Malden</td>\n",
       "      <td>Medina</td>\n",
       "      <td>0.833333</td>\n",
       "    </tr>\n",
       "    <tr>\n",
       "      <th>7</th>\n",
       "      <td>Mason</td>\n",
       "      <td>Macon</td>\n",
       "      <td>0.800000</td>\n",
       "    </tr>\n",
       "    <tr>\n",
       "      <th>8</th>\n",
       "      <td>Loveland</td>\n",
       "      <td>Avondale</td>\n",
       "      <td>0.875000</td>\n",
       "    </tr>\n",
       "    <tr>\n",
       "      <th>9</th>\n",
       "      <td>Mentor</td>\n",
       "      <td>Monroe</td>\n",
       "      <td>0.833333</td>\n",
       "    </tr>\n",
       "  </tbody>\n",
       "</table>\n",
       "</div>"
      ],
      "text/plain": [
       "            a            b  similarity\n",
       "0      Normal       Norman    0.833333\n",
       "1     Redding      Reading    0.857143\n",
       "2      Layton       Lawton    0.833333\n",
       "3  Springdale  Springfield    0.818182\n",
       "4      Regina      Reading    0.857143\n",
       "5     Clifton      Clinton    0.857143\n",
       "6      Malden       Medina    0.833333\n",
       "7       Mason        Macon    0.800000\n",
       "8    Loveland     Avondale    0.875000\n",
       "9      Mentor       Monroe    0.833333"
      ]
     },
     "execution_count": 24,
     "metadata": {},
     "output_type": "execute_result"
    }
   ],
   "source": [
    "# can't really assume any are misspelled, even \"Normal\" or \"Reading\" exist\n",
    "city_missspelled = get_missspelled(df_orders, 'City', 'Row_ID', 0.8, 20)\n",
    "city_missspelled.head(10)"
   ]
  },
  {
   "cell_type": "code",
   "execution_count": 25,
   "metadata": {},
   "outputs": [
    {
     "data": {
      "text/plain": [
       "array(['77095', '42420', '89031', '13601', '10009', '72701', '60089',\n",
       "       '60653', '65203', '33710', '43402', '94109', '74133', '19134',\n",
       "       '77036', '60543', '95051', '23320', '10024', '99301', '78207',\n",
       "       '11561', '94110', '75701', '31204', '01852', '19140', '43130',\n",
       "       '48227', '27834', '97030', '07011', '23464', 'H1C', '93030',\n",
       "       '10035', '66062', '27511', '45014', '77070', '10801', '79762',\n",
       "       '98103', '94521', '10011', '28205', '43229', '19143', '85281',\n",
       "       '78415'], dtype=object)"
      ]
     },
     "execution_count": 25,
     "metadata": {},
     "output_type": "execute_result"
    }
   ],
   "source": [
    "# H1C is a valid Canadian postal code...\n",
    "df_orders['Postal_Code'].unique()[:50]"
   ]
  },
  {
   "cell_type": "code",
   "execution_count": 26,
   "metadata": {},
   "outputs": [
    {
     "data": {
      "text/plain": [
       "array(['H1C', 'M2N', 'H1A', 'T1Y', 'T5A', 'V6G', 'A0A', 'B3H', 'E1A',\n",
       "       'V6B', 'T2C', 'M3C', 'V5K', 'G1B', 'C0A', 'V6Z', 'M7A', 'M5H',\n",
       "       'H1B', 'V6E', 'R0H', 'S0G', 'R3R'], dtype=object)"
      ]
     },
     "execution_count": 26,
     "metadata": {},
     "output_type": "execute_result"
    }
   ],
   "source": [
    "# seem valid for CA\n",
    "df_orders[df_orders['Postal_Code'].str.len() < 5]['Postal_Code'].unique()"
   ]
  },
  {
   "cell_type": "code",
   "execution_count": 27,
   "metadata": {},
   "outputs": [
    {
     "data": {
      "text/plain": [
       "804"
      ]
     },
     "execution_count": 27,
     "metadata": {},
     "output_type": "execute_result"
    }
   ],
   "source": [
    "# customers buying multiple products\n",
    "df_orders['Customer_ID'].nunique()"
   ]
  },
  {
   "cell_type": "code",
   "execution_count": 28,
   "metadata": {},
   "outputs": [
    {
     "data": {
      "text/plain": [
       "array(['DP-13000', 'ME-17320', 'NM-18445', 'JM-16195', 'KD-16345',\n",
       "       'CL-12565', 'SC-20095', 'BM-11785', 'CV-12295', 'AG-10525',\n",
       "       'MR-17545', 'AG-10390', 'GA-14725', 'PR-18880', 'NP-18700',\n",
       "       'VP-21760', 'RB-19465', 'SB-20290', 'TB-21400', 'SZ-20035',\n",
       "       'SS-20410', 'LR-17035', 'NF-18385', 'DK-13375', 'MC-17275',\n",
       "       'BM-11140', 'KT-16465', 'PP-18955', 'SP-20620', 'DP-13390',\n",
       "       'TS-21340', 'LH-17020', 'TT-21070', 'KC-16255', 'GZ-14470',\n",
       "       'RR-19525', 'LC-17140', 'NF-18595', 'MS-17365', 'CC-12220',\n",
       "       'DL-12925', 'SF-20065', 'DA-13450', 'AR-10345', 'LW-17125',\n",
       "       'LW-17215', 'TA-21385', 'BN-11470', 'AF-10885', 'PT-19090'],\n",
       "      dtype=object)"
      ]
     },
     "execution_count": 28,
     "metadata": {},
     "output_type": "execute_result"
    }
   ],
   "source": [
    "df_orders['Customer_ID'].unique()[:50]"
   ]
  },
  {
   "cell_type": "code",
   "execution_count": 29,
   "metadata": {},
   "outputs": [
    {
     "data": {
      "text/plain": [
       "array([], dtype=object)"
      ]
     },
     "execution_count": 29,
     "metadata": {},
     "output_type": "execute_result"
    }
   ],
   "source": [
    "df_orders[df_orders['Customer_ID'].str.len() != 8]['Customer_ID'].unique()"
   ]
  },
  {
   "cell_type": "code",
   "execution_count": 30,
   "metadata": {},
   "outputs": [
    {
     "data": {
      "text/plain": [
       "800"
      ]
     },
     "execution_count": 30,
     "metadata": {},
     "output_type": "execute_result"
    }
   ],
   "source": [
    "df_orders['Customer_Name'].nunique()"
   ]
  },
  {
   "cell_type": "code",
   "execution_count": 31,
   "metadata": {},
   "outputs": [
    {
     "data": {
      "text/plain": [
       "False"
      ]
     },
     "execution_count": 31,
     "metadata": {},
     "output_type": "execute_result"
    }
   ],
   "source": [
    "# might be possible that thas ok\n",
    "df_orders['Customer_ID'].nunique() == df_orders['Customer_Name'].nunique()"
   ]
  },
  {
   "cell_type": "code",
   "execution_count": 32,
   "metadata": {},
   "outputs": [
    {
     "data": {
      "text/html": [
       "<div>\n",
       "<style scoped>\n",
       "    .dataframe tbody tr th:only-of-type {\n",
       "        vertical-align: middle;\n",
       "    }\n",
       "\n",
       "    .dataframe tbody tr th {\n",
       "        vertical-align: top;\n",
       "    }\n",
       "\n",
       "    .dataframe thead th {\n",
       "        text-align: right;\n",
       "    }\n",
       "</style>\n",
       "<table border=\"1\" class=\"dataframe\">\n",
       "  <thead>\n",
       "    <tr style=\"text-align: right;\">\n",
       "      <th></th>\n",
       "      <th>Customer_Name</th>\n",
       "      <th>Customer_ID</th>\n",
       "    </tr>\n",
       "  </thead>\n",
       "  <tbody>\n",
       "    <tr>\n",
       "      <th>324</th>\n",
       "      <td>Harry Olson</td>\n",
       "      <td>5</td>\n",
       "    </tr>\n",
       "  </tbody>\n",
       "</table>\n",
       "</div>"
      ],
      "text/plain": [
       "    Customer_Name  Customer_ID\n",
       "324   Harry Olson            5"
      ]
     },
     "execution_count": 32,
     "metadata": {},
     "output_type": "execute_result"
    }
   ],
   "source": [
    "df_customer_name_unique = df_orders.groupby('Customer_Name')['Customer_ID'].nunique().reset_index()\n",
    "df_customer_name_unique[df_customer_name_unique['Customer_ID'] > 1]"
   ]
  },
  {
   "cell_type": "code",
   "execution_count": 33,
   "metadata": {},
   "outputs": [
    {
     "data": {
      "text/html": [
       "<div>\n",
       "<style scoped>\n",
       "    .dataframe tbody tr th:only-of-type {\n",
       "        vertical-align: middle;\n",
       "    }\n",
       "\n",
       "    .dataframe tbody tr th {\n",
       "        vertical-align: top;\n",
       "    }\n",
       "\n",
       "    .dataframe thead th {\n",
       "        text-align: right;\n",
       "    }\n",
       "</style>\n",
       "<table border=\"1\" class=\"dataframe\">\n",
       "  <thead>\n",
       "    <tr style=\"text-align: right;\">\n",
       "      <th></th>\n",
       "      <th>Row_ID</th>\n",
       "      <th>Order_ID</th>\n",
       "      <th>City</th>\n",
       "      <th>Customer_ID</th>\n",
       "      <th>Customer_Name</th>\n",
       "      <th>Product_Name</th>\n",
       "      <th>Order_Date</th>\n",
       "      <th>Ship_Date</th>\n",
       "    </tr>\n",
       "  </thead>\n",
       "  <tbody>\n",
       "    <tr>\n",
       "      <th>1154</th>\n",
       "      <td>2037</td>\n",
       "      <td>CA-2020-143500</td>\n",
       "      <td>Charlottetown</td>\n",
       "      <td>HO-15230</td>\n",
       "      <td>Harry Olson</td>\n",
       "      <td>Wilson Jones Impact Binders</td>\n",
       "      <td>2020-12-30</td>\n",
       "      <td>2020-01-03</td>\n",
       "    </tr>\n",
       "    <tr>\n",
       "      <th>10193</th>\n",
       "      <td>10194</td>\n",
       "      <td>CA-2023-143500</td>\n",
       "      <td>Charlottetown</td>\n",
       "      <td>HO-15230</td>\n",
       "      <td>Harry Olson</td>\n",
       "      <td>Wilson Jones Impact Binders</td>\n",
       "      <td>2023-12-30</td>\n",
       "      <td>2023-01-03</td>\n",
       "    </tr>\n",
       "    <tr>\n",
       "      <th>5012</th>\n",
       "      <td>5013</td>\n",
       "      <td>CA-2022-121465</td>\n",
       "      <td>Charlottetown</td>\n",
       "      <td>HO-15231</td>\n",
       "      <td>Harry Olson</td>\n",
       "      <td>GBC ProClick Spines for 32-Hole Punch</td>\n",
       "      <td>2022-06-12</td>\n",
       "      <td>2022-06-17</td>\n",
       "    </tr>\n",
       "    <tr>\n",
       "      <th>7194</th>\n",
       "      <td>7195</td>\n",
       "      <td>CA-2023-130494</td>\n",
       "      <td>Charlottetown</td>\n",
       "      <td>HO-15231</td>\n",
       "      <td>Harry Olson</td>\n",
       "      <td>GBC ProClick Spines for 32-Hole Punch</td>\n",
       "      <td>2023-03-16</td>\n",
       "      <td>2023-03-21</td>\n",
       "    </tr>\n",
       "    <tr>\n",
       "      <th>5011</th>\n",
       "      <td>5012</td>\n",
       "      <td>CA-2022-121465</td>\n",
       "      <td>Charlottetown</td>\n",
       "      <td>HO-15232</td>\n",
       "      <td>Harry Olson</td>\n",
       "      <td>Panasonic KP-350BK Electric Pencil Sharpener w...</td>\n",
       "      <td>2022-06-12</td>\n",
       "      <td>2022-06-17</td>\n",
       "    </tr>\n",
       "    <tr>\n",
       "      <th>7193</th>\n",
       "      <td>7194</td>\n",
       "      <td>CA-2023-130494</td>\n",
       "      <td>Charlottetown</td>\n",
       "      <td>HO-15232</td>\n",
       "      <td>Harry Olson</td>\n",
       "      <td>Panasonic KP-350BK Electric Pencil Sharpener w...</td>\n",
       "      <td>2023-03-16</td>\n",
       "      <td>2023-03-21</td>\n",
       "    </tr>\n",
       "    <tr>\n",
       "      <th>5010</th>\n",
       "      <td>5011</td>\n",
       "      <td>CA-2022-121465</td>\n",
       "      <td>Charlottetown</td>\n",
       "      <td>HO-15233</td>\n",
       "      <td>Harry Olson</td>\n",
       "      <td>Global Leather and Oak Executive Chair, Black</td>\n",
       "      <td>2022-06-12</td>\n",
       "      <td>2022-06-17</td>\n",
       "    </tr>\n",
       "    <tr>\n",
       "      <th>7192</th>\n",
       "      <td>7193</td>\n",
       "      <td>CA-2023-130494</td>\n",
       "      <td>Charlottetown</td>\n",
       "      <td>HO-15233</td>\n",
       "      <td>Harry Olson</td>\n",
       "      <td>Global Leather and Oak Executive Chair, Black</td>\n",
       "      <td>2023-03-16</td>\n",
       "      <td>2023-03-21</td>\n",
       "    </tr>\n",
       "    <tr>\n",
       "      <th>5009</th>\n",
       "      <td>5010</td>\n",
       "      <td>CA-2022-121465</td>\n",
       "      <td>Charlottetown</td>\n",
       "      <td>HO-15234</td>\n",
       "      <td>Harry Olson</td>\n",
       "      <td>Harbour Creations Steel Folding Chair</td>\n",
       "      <td>2022-06-12</td>\n",
       "      <td>2022-06-17</td>\n",
       "    </tr>\n",
       "    <tr>\n",
       "      <th>7191</th>\n",
       "      <td>7192</td>\n",
       "      <td>CA-2023-130494</td>\n",
       "      <td>Charlottetown</td>\n",
       "      <td>HO-15234</td>\n",
       "      <td>Harry Olson</td>\n",
       "      <td>Harbour Creations Steel Folding Chair</td>\n",
       "      <td>2023-03-16</td>\n",
       "      <td>2023-03-21</td>\n",
       "    </tr>\n",
       "  </tbody>\n",
       "</table>\n",
       "</div>"
      ],
      "text/plain": [
       "       Row_ID        Order_ID           City Customer_ID Customer_Name  \\\n",
       "1154     2037  CA-2020-143500  Charlottetown    HO-15230   Harry Olson   \n",
       "10193   10194  CA-2023-143500  Charlottetown    HO-15230   Harry Olson   \n",
       "5012     5013  CA-2022-121465  Charlottetown    HO-15231   Harry Olson   \n",
       "7194     7195  CA-2023-130494  Charlottetown    HO-15231   Harry Olson   \n",
       "5011     5012  CA-2022-121465  Charlottetown    HO-15232   Harry Olson   \n",
       "7193     7194  CA-2023-130494  Charlottetown    HO-15232   Harry Olson   \n",
       "5010     5011  CA-2022-121465  Charlottetown    HO-15233   Harry Olson   \n",
       "7192     7193  CA-2023-130494  Charlottetown    HO-15233   Harry Olson   \n",
       "5009     5010  CA-2022-121465  Charlottetown    HO-15234   Harry Olson   \n",
       "7191     7192  CA-2023-130494  Charlottetown    HO-15234   Harry Olson   \n",
       "\n",
       "                                            Product_Name  Order_Date  \\\n",
       "1154                         Wilson Jones Impact Binders  2020-12-30   \n",
       "10193                        Wilson Jones Impact Binders  2023-12-30   \n",
       "5012               GBC ProClick Spines for 32-Hole Punch  2022-06-12   \n",
       "7194               GBC ProClick Spines for 32-Hole Punch  2023-03-16   \n",
       "5011   Panasonic KP-350BK Electric Pencil Sharpener w...  2022-06-12   \n",
       "7193   Panasonic KP-350BK Electric Pencil Sharpener w...  2023-03-16   \n",
       "5010       Global Leather and Oak Executive Chair, Black  2022-06-12   \n",
       "7192       Global Leather and Oak Executive Chair, Black  2023-03-16   \n",
       "5009               Harbour Creations Steel Folding Chair  2022-06-12   \n",
       "7191               Harbour Creations Steel Folding Chair  2023-03-16   \n",
       "\n",
       "        Ship_Date  \n",
       "1154   2020-01-03  \n",
       "10193  2023-01-03  \n",
       "5012   2022-06-17  \n",
       "7194   2023-03-21  \n",
       "5011   2022-06-17  \n",
       "7193   2023-03-21  \n",
       "5010   2022-06-17  \n",
       "7192   2023-03-21  \n",
       "5009   2022-06-17  \n",
       "7191   2023-03-21  "
      ]
     },
     "execution_count": 33,
     "metadata": {},
     "output_type": "execute_result"
    }
   ],
   "source": [
    "# hmm... same guy\n",
    "df_orders[df_orders['Customer_Name'] == 'Harry Olson'][['Row_ID', 'Order_ID', 'City', 'Customer_ID', 'Customer_Name', 'Product_Name', 'Order_Date','Ship_Date']].sort_values('Customer_ID')"
   ]
  },
  {
   "cell_type": "code",
   "execution_count": 34,
   "metadata": {},
   "outputs": [],
   "source": [
    "# for now..\n",
    "df_orders.loc[df_orders['Customer_Name'] == 'Harry Olson', 'Customer_ID'] = 'HO-15230'"
   ]
  },
  {
   "cell_type": "code",
   "execution_count": 35,
   "metadata": {},
   "outputs": [
    {
     "data": {
      "text/html": [
       "<div>\n",
       "<style scoped>\n",
       "    .dataframe tbody tr th:only-of-type {\n",
       "        vertical-align: middle;\n",
       "    }\n",
       "\n",
       "    .dataframe tbody tr th {\n",
       "        vertical-align: top;\n",
       "    }\n",
       "\n",
       "    .dataframe thead th {\n",
       "        text-align: right;\n",
       "    }\n",
       "</style>\n",
       "<table border=\"1\" class=\"dataframe\">\n",
       "  <thead>\n",
       "    <tr style=\"text-align: right;\">\n",
       "      <th></th>\n",
       "      <th>Customer_Name</th>\n",
       "      <th>Customer_ID</th>\n",
       "    </tr>\n",
       "  </thead>\n",
       "  <tbody>\n",
       "  </tbody>\n",
       "</table>\n",
       "</div>"
      ],
      "text/plain": [
       "Empty DataFrame\n",
       "Columns: [Customer_Name, Customer_ID]\n",
       "Index: []"
      ]
     },
     "execution_count": 35,
     "metadata": {},
     "output_type": "execute_result"
    }
   ],
   "source": [
    "df_customer_name_unique_2 = df_orders.groupby('Customer_Name')['Customer_ID'].nunique().reset_index()\n",
    "df_customer_name_unique_2[df_customer_name_unique_2['Customer_ID'] > 1]"
   ]
  },
  {
   "cell_type": "code",
   "execution_count": 36,
   "metadata": {},
   "outputs": [
    {
     "data": {
      "text/plain": [
       "1862"
      ]
     },
     "execution_count": 36,
     "metadata": {},
     "output_type": "execute_result"
    }
   ],
   "source": [
    "df_orders['Product_ID'].nunique()"
   ]
  },
  {
   "cell_type": "code",
   "execution_count": 37,
   "metadata": {},
   "outputs": [
    {
     "data": {
      "text/plain": [
       "array(['OFF-PA-10000174', 'OFF-FA-10001883', 'FUR-FU-10002111',\n",
       "       'OFF-AP-10001303', 'OFF-AR-10000658', 'OFF-AR-10002445',\n",
       "       'OFF-BI-10001359', 'OFF-PA-10000349', 'TEC-AC-10000844',\n",
       "       'TEC-AC-10001606', 'TEC-MA-10002210', 'OFF-BI-10004099',\n",
       "       'OFF-LA-10001175', 'FUR-CH-10001146', 'FUR-FU-10001967',\n",
       "       'OFF-ST-10000585', 'FUR-FU-10001487', 'OFF-LA-10001934',\n",
       "       'FUR-CH-10004698', 'FUR-FU-10000758', 'FUR-FU-10004270',\n",
       "       'FUR-FU-10004665', 'FUR-TA-10001039', 'FUR-TA-10004154',\n",
       "       'FUR-FU-10002298'], dtype=object)"
      ]
     },
     "execution_count": 37,
     "metadata": {},
     "output_type": "execute_result"
    }
   ],
   "source": [
    "df_orders['Product_ID'].unique()[:25]"
   ]
  },
  {
   "cell_type": "code",
   "execution_count": 38,
   "metadata": {},
   "outputs": [
    {
     "data": {
      "text/plain": [
       "array([ True])"
      ]
     },
     "execution_count": 38,
     "metadata": {},
     "output_type": "execute_result"
    }
   ],
   "source": [
    "# all products follow the pattern of <category_short>-<subcategory_short>-<product_id>\n",
    "df_orders['Product_ID'].str.match(r'^[A-Z]{3}-[A-Z]{2}-\\d+$', False, re.IGNORECASE).unique()"
   ]
  },
  {
   "cell_type": "code",
   "execution_count": 39,
   "metadata": {},
   "outputs": [
    {
     "data": {
      "text/plain": [
       "1849"
      ]
     },
     "execution_count": 39,
     "metadata": {},
     "output_type": "execute_result"
    }
   ],
   "source": [
    "df_orders['Product_Name'].nunique()"
   ]
  },
  {
   "cell_type": "code",
   "execution_count": 40,
   "metadata": {},
   "outputs": [
    {
     "data": {
      "text/html": [
       "<div>\n",
       "<style scoped>\n",
       "    .dataframe tbody tr th:only-of-type {\n",
       "        vertical-align: middle;\n",
       "    }\n",
       "\n",
       "    .dataframe tbody tr th {\n",
       "        vertical-align: top;\n",
       "    }\n",
       "\n",
       "    .dataframe thead th {\n",
       "        text-align: right;\n",
       "    }\n",
       "</style>\n",
       "<table border=\"1\" class=\"dataframe\">\n",
       "  <thead>\n",
       "    <tr style=\"text-align: right;\">\n",
       "      <th></th>\n",
       "      <th>Product_Name</th>\n",
       "      <th>Product_ID</th>\n",
       "    </tr>\n",
       "  </thead>\n",
       "  <tbody>\n",
       "    <tr>\n",
       "      <th>4</th>\n",
       "      <td>#10- 4 1/8\" x 9 1/2\" Recycled Envelopes</td>\n",
       "      <td>2</td>\n",
       "    </tr>\n",
       "    <tr>\n",
       "      <th>259</th>\n",
       "      <td>Avery Non-Stick Binders</td>\n",
       "      <td>2</td>\n",
       "    </tr>\n",
       "    <tr>\n",
       "      <th>493</th>\n",
       "      <td>DAX Wood Document Frame</td>\n",
       "      <td>2</td>\n",
       "    </tr>\n",
       "    <tr>\n",
       "      <th>536</th>\n",
       "      <td>Easy-staple paper</td>\n",
       "      <td>8</td>\n",
       "    </tr>\n",
       "    <tr>\n",
       "      <th>590</th>\n",
       "      <td>Eldon Wave Desk Accessories</td>\n",
       "      <td>2</td>\n",
       "    </tr>\n",
       "    <tr>\n",
       "      <th>941</th>\n",
       "      <td>KI Adjustable-Height Table</td>\n",
       "      <td>2</td>\n",
       "    </tr>\n",
       "    <tr>\n",
       "      <th>1216</th>\n",
       "      <td>Okidata C610n Printer</td>\n",
       "      <td>2</td>\n",
       "    </tr>\n",
       "    <tr>\n",
       "      <th>1248</th>\n",
       "      <td>Peel &amp; Seel Recycled Catalog Envelopes, Brown</td>\n",
       "      <td>2</td>\n",
       "    </tr>\n",
       "    <tr>\n",
       "      <th>1296</th>\n",
       "      <td>Prang Drawing Pencil Set</td>\n",
       "      <td>2</td>\n",
       "    </tr>\n",
       "    <tr>\n",
       "      <th>1492</th>\n",
       "      <td>Staple envelope</td>\n",
       "      <td>9</td>\n",
       "    </tr>\n",
       "    <tr>\n",
       "      <th>1493</th>\n",
       "      <td>Staple holder</td>\n",
       "      <td>3</td>\n",
       "    </tr>\n",
       "    <tr>\n",
       "      <th>1494</th>\n",
       "      <td>Staple magnet</td>\n",
       "      <td>2</td>\n",
       "    </tr>\n",
       "    <tr>\n",
       "      <th>1495</th>\n",
       "      <td>Staple remover</td>\n",
       "      <td>3</td>\n",
       "    </tr>\n",
       "    <tr>\n",
       "      <th>1496</th>\n",
       "      <td>Staple-based wall hangings</td>\n",
       "      <td>2</td>\n",
       "    </tr>\n",
       "    <tr>\n",
       "      <th>1498</th>\n",
       "      <td>Staples</td>\n",
       "      <td>10</td>\n",
       "    </tr>\n",
       "    <tr>\n",
       "      <th>1499</th>\n",
       "      <td>Staples in misc. colors</td>\n",
       "      <td>7</td>\n",
       "    </tr>\n",
       "    <tr>\n",
       "      <th>1510</th>\n",
       "      <td>Storex Dura Pro Binders</td>\n",
       "      <td>2</td>\n",
       "    </tr>\n",
       "  </tbody>\n",
       "</table>\n",
       "</div>"
      ],
      "text/plain": [
       "                                       Product_Name  Product_ID\n",
       "4           #10- 4 1/8\" x 9 1/2\" Recycled Envelopes           2\n",
       "259                         Avery Non-Stick Binders           2\n",
       "493                         DAX Wood Document Frame           2\n",
       "536                               Easy-staple paper           8\n",
       "590                     Eldon Wave Desk Accessories           2\n",
       "941                      KI Adjustable-Height Table           2\n",
       "1216                          Okidata C610n Printer           2\n",
       "1248  Peel & Seel Recycled Catalog Envelopes, Brown           2\n",
       "1296                       Prang Drawing Pencil Set           2\n",
       "1492                                Staple envelope           9\n",
       "1493                                  Staple holder           3\n",
       "1494                                  Staple magnet           2\n",
       "1495                                 Staple remover           3\n",
       "1496                     Staple-based wall hangings           2\n",
       "1498                                        Staples          10\n",
       "1499                        Staples in misc. colors           7\n",
       "1510                        Storex Dura Pro Binders           2"
      ]
     },
     "execution_count": 40,
     "metadata": {},
     "output_type": "execute_result"
    }
   ],
   "source": [
    "# idk here, it is probably not that uncommon to have 2 different products with the same name\n",
    "df_product_name_unique = df_orders.groupby('Product_Name')['Product_ID'].nunique().reset_index()\n",
    "df_product_name_unique[df_product_name_unique['Product_ID'] > 1]"
   ]
  },
  {
   "cell_type": "code",
   "execution_count": 50,
   "metadata": {},
   "outputs": [
    {
     "data": {
      "text/plain": [
       "array([ 2,  4,  1,  5,  3,  7,  6,  8,  9, 10, 14, 11, 13, 12],\n",
       "      dtype=int64)"
      ]
     },
     "execution_count": 50,
     "metadata": {},
     "output_type": "execute_result"
    }
   ],
   "source": [
    "df_orders['Quantity'].unique()"
   ]
  },
  {
   "cell_type": "code",
   "execution_count": 42,
   "metadata": {},
   "outputs": [
    {
     "data": {
      "text/plain": [
       "array([16.448, 31.12 , 14.56 , ..., 20.72 ,  3.024, 90.93 ])"
      ]
     },
     "execution_count": 42,
     "metadata": {},
     "output_type": "execute_result"
    }
   ],
   "source": [
    "df_orders['Sales'].unique()"
   ]
  },
  {
   "cell_type": "code",
   "execution_count": 49,
   "metadata": {},
   "outputs": [
    {
     "data": {
      "text/plain": [
       "array([0.2 , 0.  , 0.4 , 0.8 , 0.3 , 0.7 , 0.1 , 0.5 , 0.6 , 0.15, 0.32,\n",
       "       0.45])"
      ]
     },
     "execution_count": 49,
     "metadata": {},
     "output_type": "execute_result"
    }
   ],
   "source": [
    "df_orders['Discount'].unique()"
   ]
  },
  {
   "cell_type": "code",
   "execution_count": 44,
   "metadata": {},
   "outputs": [
    {
     "data": {
      "text/plain": [
       "Index(['Row_ID', 'Order_ID', 'Category', 'Sub_Category', 'Segment',\n",
       "       'Country_Region', 'State_Province', 'Region', 'City', 'Postal_Code',\n",
       "       'Customer_ID', 'Customer_Name', 'Product_ID', 'Product_Name',\n",
       "       'Quantity', 'Sales', 'Discount', 'Profit', 'Order_Date', 'Ship_Date',\n",
       "       'Ship_Mode'],\n",
       "      dtype='object')"
      ]
     },
     "execution_count": 44,
     "metadata": {},
     "output_type": "execute_result"
    }
   ],
   "source": [
    "df_orders.columns"
   ]
  },
  {
   "cell_type": "code",
   "execution_count": 45,
   "metadata": {},
   "outputs": [
    {
     "data": {
      "text/plain": [
       "array([ 5.5512,  0.3112,  5.5328, ..., 19.791 ,  6.475 ,  2.7279])"
      ]
     },
     "execution_count": 45,
     "metadata": {},
     "output_type": "execute_result"
    }
   ],
   "source": [
    "df_orders['Profit'].unique()"
   ]
  },
  {
   "cell_type": "code",
   "execution_count": 46,
   "metadata": {},
   "outputs": [
    {
     "data": {
      "text/plain": [
       "array([datetime.date(2020, 1, 3), datetime.date(2020, 1, 6),\n",
       "       datetime.date(2020, 2, 8), ..., datetime.date(2023, 12, 28),\n",
       "       datetime.date(2023, 12, 29), datetime.date(2023, 12, 30)],\n",
       "      dtype=object)"
      ]
     },
     "execution_count": 46,
     "metadata": {},
     "output_type": "execute_result"
    }
   ],
   "source": [
    "df_orders['Order_Date'].unique()"
   ]
  },
  {
   "cell_type": "code",
   "execution_count": 47,
   "metadata": {},
   "outputs": [
    {
     "data": {
      "text/plain": [
       "array([datetime.date(2020, 1, 7), datetime.date(2020, 1, 10),\n",
       "       datetime.date(2020, 2, 9), ..., datetime.date(2023, 12, 29),\n",
       "       datetime.date(2023, 1, 1), datetime.date(2023, 1, 3)], dtype=object)"
      ]
     },
     "execution_count": 47,
     "metadata": {},
     "output_type": "execute_result"
    }
   ],
   "source": [
    "df_orders['Ship_Date'].unique() # was cast to just Date since all timestamps were 00:00:00"
   ]
  },
  {
   "cell_type": "code",
   "execution_count": 48,
   "metadata": {},
   "outputs": [
    {
     "data": {
      "text/plain": [
       "array(['Standard Class', 'First Class', 'Second Class', 'Same Day'],\n",
       "      dtype=object)"
      ]
     },
     "execution_count": 48,
     "metadata": {},
     "output_type": "execute_result"
    }
   ],
   "source": [
    "df_orders['Ship_Mode'].unique()"
   ]
  },
  {
   "cell_type": "code",
   "execution_count": 53,
   "metadata": {},
   "outputs": [
    {
     "data": {
      "text/html": [
       "<div>\n",
       "<style scoped>\n",
       "    .dataframe tbody tr th:only-of-type {\n",
       "        vertical-align: middle;\n",
       "    }\n",
       "\n",
       "    .dataframe tbody tr th {\n",
       "        vertical-align: top;\n",
       "    }\n",
       "\n",
       "    .dataframe thead th {\n",
       "        text-align: right;\n",
       "    }\n",
       "</style>\n",
       "<table border=\"1\" class=\"dataframe\">\n",
       "  <thead>\n",
       "    <tr style=\"text-align: right;\">\n",
       "      <th></th>\n",
       "      <th>0</th>\n",
       "      <th>1</th>\n",
       "      <th>2</th>\n",
       "    </tr>\n",
       "  </thead>\n",
       "  <tbody>\n",
       "    <tr>\n",
       "      <th>Row_ID</th>\n",
       "      <td>1</td>\n",
       "      <td>10</td>\n",
       "      <td>100</td>\n",
       "    </tr>\n",
       "    <tr>\n",
       "      <th>Order_ID</th>\n",
       "      <td>US-2020-103800</td>\n",
       "      <td>US-2020-167199</td>\n",
       "      <td>US-2020-125759</td>\n",
       "    </tr>\n",
       "    <tr>\n",
       "      <th>Category</th>\n",
       "      <td>Office Supplies</td>\n",
       "      <td>Office Supplies</td>\n",
       "      <td>Furniture</td>\n",
       "    </tr>\n",
       "    <tr>\n",
       "      <th>Sub_Category</th>\n",
       "      <td>Paper</td>\n",
       "      <td>Fasteners</td>\n",
       "      <td>Furnishings</td>\n",
       "    </tr>\n",
       "    <tr>\n",
       "      <th>Segment</th>\n",
       "      <td>Consumer</td>\n",
       "      <td>Home Office</td>\n",
       "      <td>Home Office</td>\n",
       "    </tr>\n",
       "    <tr>\n",
       "      <th>Country_Region</th>\n",
       "      <td>United States</td>\n",
       "      <td>United States</td>\n",
       "      <td>United States</td>\n",
       "    </tr>\n",
       "    <tr>\n",
       "      <th>State_Province</th>\n",
       "      <td>Texas</td>\n",
       "      <td>Kentucky</td>\n",
       "      <td>Nevada</td>\n",
       "    </tr>\n",
       "    <tr>\n",
       "      <th>Region</th>\n",
       "      <td>Central</td>\n",
       "      <td>South</td>\n",
       "      <td>West</td>\n",
       "    </tr>\n",
       "    <tr>\n",
       "      <th>City</th>\n",
       "      <td>Houston</td>\n",
       "      <td>Henderson</td>\n",
       "      <td>North Las Vegas</td>\n",
       "    </tr>\n",
       "    <tr>\n",
       "      <th>Postal_Code</th>\n",
       "      <td>77095</td>\n",
       "      <td>42420</td>\n",
       "      <td>89031</td>\n",
       "    </tr>\n",
       "    <tr>\n",
       "      <th>Customer_ID</th>\n",
       "      <td>DP-13000</td>\n",
       "      <td>ME-17320</td>\n",
       "      <td>NM-18445</td>\n",
       "    </tr>\n",
       "    <tr>\n",
       "      <th>Customer_Name</th>\n",
       "      <td>Darren Powers</td>\n",
       "      <td>Maria Etezadi</td>\n",
       "      <td>Nathan Mautz</td>\n",
       "    </tr>\n",
       "    <tr>\n",
       "      <th>Product_ID</th>\n",
       "      <td>OFF-PA-10000174</td>\n",
       "      <td>OFF-FA-10001883</td>\n",
       "      <td>FUR-FU-10002111</td>\n",
       "    </tr>\n",
       "    <tr>\n",
       "      <th>Product_Name</th>\n",
       "      <td>Message Book, Wirebound, Four 5 1/2\" X 4\" Form...</td>\n",
       "      <td>Alliance Super-Size Bands, Assorted Sizes</td>\n",
       "      <td>Master Caster Door Stop, Large Brown</td>\n",
       "    </tr>\n",
       "    <tr>\n",
       "      <th>Quantity</th>\n",
       "      <td>2</td>\n",
       "      <td>4</td>\n",
       "      <td>2</td>\n",
       "    </tr>\n",
       "    <tr>\n",
       "      <th>Sales</th>\n",
       "      <td>16.448</td>\n",
       "      <td>31.12</td>\n",
       "      <td>14.56</td>\n",
       "    </tr>\n",
       "    <tr>\n",
       "      <th>Discount</th>\n",
       "      <td>0.2</td>\n",
       "      <td>0.0</td>\n",
       "      <td>0.0</td>\n",
       "    </tr>\n",
       "    <tr>\n",
       "      <th>Profit</th>\n",
       "      <td>5.5512</td>\n",
       "      <td>0.3112</td>\n",
       "      <td>5.5328</td>\n",
       "    </tr>\n",
       "    <tr>\n",
       "      <th>Order_Date</th>\n",
       "      <td>2020-01-03</td>\n",
       "      <td>2020-01-06</td>\n",
       "      <td>2020-02-08</td>\n",
       "    </tr>\n",
       "    <tr>\n",
       "      <th>Ship_Date</th>\n",
       "      <td>2020-01-07</td>\n",
       "      <td>2020-01-10</td>\n",
       "      <td>2020-02-09</td>\n",
       "    </tr>\n",
       "    <tr>\n",
       "      <th>Ship_Mode</th>\n",
       "      <td>Standard Class</td>\n",
       "      <td>Standard Class</td>\n",
       "      <td>First Class</td>\n",
       "    </tr>\n",
       "  </tbody>\n",
       "</table>\n",
       "</div>"
      ],
      "text/plain": [
       "                                                                0  \\\n",
       "Row_ID                                                          1   \n",
       "Order_ID                                           US-2020-103800   \n",
       "Category                                          Office Supplies   \n",
       "Sub_Category                                                Paper   \n",
       "Segment                                                  Consumer   \n",
       "Country_Region                                      United States   \n",
       "State_Province                                              Texas   \n",
       "Region                                                    Central   \n",
       "City                                                      Houston   \n",
       "Postal_Code                                                 77095   \n",
       "Customer_ID                                              DP-13000   \n",
       "Customer_Name                                       Darren Powers   \n",
       "Product_ID                                        OFF-PA-10000174   \n",
       "Product_Name    Message Book, Wirebound, Four 5 1/2\" X 4\" Form...   \n",
       "Quantity                                                        2   \n",
       "Sales                                                      16.448   \n",
       "Discount                                                      0.2   \n",
       "Profit                                                     5.5512   \n",
       "Order_Date                                             2020-01-03   \n",
       "Ship_Date                                              2020-01-07   \n",
       "Ship_Mode                                          Standard Class   \n",
       "\n",
       "                                                        1  \\\n",
       "Row_ID                                                 10   \n",
       "Order_ID                                   US-2020-167199   \n",
       "Category                                  Office Supplies   \n",
       "Sub_Category                                    Fasteners   \n",
       "Segment                                       Home Office   \n",
       "Country_Region                              United States   \n",
       "State_Province                                   Kentucky   \n",
       "Region                                              South   \n",
       "City                                            Henderson   \n",
       "Postal_Code                                         42420   \n",
       "Customer_ID                                      ME-17320   \n",
       "Customer_Name                               Maria Etezadi   \n",
       "Product_ID                                OFF-FA-10001883   \n",
       "Product_Name    Alliance Super-Size Bands, Assorted Sizes   \n",
       "Quantity                                                4   \n",
       "Sales                                               31.12   \n",
       "Discount                                              0.0   \n",
       "Profit                                             0.3112   \n",
       "Order_Date                                     2020-01-06   \n",
       "Ship_Date                                      2020-01-10   \n",
       "Ship_Mode                                  Standard Class   \n",
       "\n",
       "                                                   2  \n",
       "Row_ID                                           100  \n",
       "Order_ID                              US-2020-125759  \n",
       "Category                                   Furniture  \n",
       "Sub_Category                             Furnishings  \n",
       "Segment                                  Home Office  \n",
       "Country_Region                         United States  \n",
       "State_Province                                Nevada  \n",
       "Region                                          West  \n",
       "City                                 North Las Vegas  \n",
       "Postal_Code                                    89031  \n",
       "Customer_ID                                 NM-18445  \n",
       "Customer_Name                           Nathan Mautz  \n",
       "Product_ID                           FUR-FU-10002111  \n",
       "Product_Name    Master Caster Door Stop, Large Brown  \n",
       "Quantity                                           2  \n",
       "Sales                                          14.56  \n",
       "Discount                                         0.0  \n",
       "Profit                                        5.5328  \n",
       "Order_Date                                2020-02-08  \n",
       "Ship_Date                                 2020-02-09  \n",
       "Ship_Mode                                First Class  "
      ]
     },
     "execution_count": 53,
     "metadata": {},
     "output_type": "execute_result"
    }
   ],
   "source": [
    "df_orders.head(3).T"
   ]
  },
  {
   "cell_type": "code",
   "execution_count": null,
   "metadata": {},
   "outputs": [],
   "source": []
  }
 ],
 "metadata": {
  "kernelspec": {
   "display_name": "Python 3",
   "language": "python",
   "name": "python3"
  },
  "language_info": {
   "codemirror_mode": {
    "name": "ipython",
    "version": 3
   },
   "file_extension": ".py",
   "mimetype": "text/x-python",
   "name": "python",
   "nbconvert_exporter": "python",
   "pygments_lexer": "ipython3",
   "version": "3.11.2"
  },
  "orig_nbformat": 4
 },
 "nbformat": 4,
 "nbformat_minor": 2
}
